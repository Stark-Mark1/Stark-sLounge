{
 "cells": [
  {
   "cell_type": "markdown",
   "metadata": {},
   "source": [
    "### Importing required libraries:"
   ]
  },
  {
   "cell_type": "code",
   "execution_count": 1,
   "metadata": {},
   "outputs": [],
   "source": [
    "from scipy.stats import norm\n",
    "import numpy as np\n",
    "import pandas as pd\n",
    "import matplotlib.pyplot as plt\n",
    "import seaborn as sns\n",
    "from sklearn import model_selection\n",
    "from sklearn import tree \n",
    "from sklearn import preprocessing\n",
    "from sklearn import metrics\n",
    "from sklearn import feature_selection\n",
    "from sklearn import neighbors\n",
    "from sklearn import ensemble\n",
    "from sklearn import naive_bayes"
   ]
  },
  {
   "cell_type": "markdown",
   "metadata": {},
   "source": [
    "#### Setting the size of the plots:"
   ]
  },
  {
   "cell_type": "code",
   "execution_count": 2,
   "metadata": {},
   "outputs": [],
   "source": [
    "plt.rcParams['figure.figsize']=(10,7)"
   ]
  },
  {
   "cell_type": "markdown",
   "metadata": {},
   "source": [
    "### Creating a dataset:"
   ]
  },
  {
   "cell_type": "code",
   "execution_count": 5,
   "metadata": {},
   "outputs": [
    {
     "name": "stdout",
     "output_type": "stream",
     "text": [
      "<class 'pandas.core.frame.DataFrame'>\n",
      "RangeIndex: 43915 entries, 0 to 43914\n",
      "Data columns (total 18 columns):\n",
      " #   Column            Non-Null Count  Dtype  \n",
      "---  ------            --------------  -----  \n",
      " 0   iyear             43915 non-null  int64  \n",
      " 1   imonth            43915 non-null  int64  \n",
      " 2   iday              43915 non-null  int64  \n",
      " 3   country_txt       43915 non-null  object \n",
      " 4   city              43915 non-null  object \n",
      " 5   attacktype1_txt   43915 non-null  object \n",
      " 6   targtype1_txt     43915 non-null  object \n",
      " 7   corp1             43915 non-null  object \n",
      " 8   target1           43915 non-null  object \n",
      " 9   natlty1_txt       43342 non-null  object \n",
      " 10  gname             43915 non-null  object \n",
      " 11  weaptype1_txt     43915 non-null  object \n",
      " 12  weapsubtype1_txt  39346 non-null  object \n",
      " 13  weapdetail        16985 non-null  object \n",
      " 14  nkill             41290 non-null  float64\n",
      " 15  nwound            39313 non-null  float64\n",
      " 16  propextent_txt    15615 non-null  object \n",
      " 17  ransomamt         273 non-null    float64\n",
      "dtypes: float64(3), int64(3), object(12)\n",
      "memory usage: 6.0+ MB\n"
     ]
    },
    {
     "data": {
      "text/html": [
       "<div>\n",
       "<style scoped>\n",
       "    .dataframe tbody tr th:only-of-type {\n",
       "        vertical-align: middle;\n",
       "    }\n",
       "\n",
       "    .dataframe tbody tr th {\n",
       "        vertical-align: top;\n",
       "    }\n",
       "\n",
       "    .dataframe thead th {\n",
       "        text-align: right;\n",
       "    }\n",
       "</style>\n",
       "<table border=\"1\" class=\"dataframe\">\n",
       "  <thead>\n",
       "    <tr style=\"text-align: right;\">\n",
       "      <th></th>\n",
       "      <th>iyear</th>\n",
       "      <th>imonth</th>\n",
       "      <th>iday</th>\n",
       "      <th>country_txt</th>\n",
       "      <th>city</th>\n",
       "      <th>attacktype1_txt</th>\n",
       "      <th>targtype1_txt</th>\n",
       "      <th>corp1</th>\n",
       "      <th>target1</th>\n",
       "      <th>natlty1_txt</th>\n",
       "      <th>gname</th>\n",
       "      <th>weaptype1_txt</th>\n",
       "      <th>weapsubtype1_txt</th>\n",
       "      <th>weapdetail</th>\n",
       "      <th>nkill</th>\n",
       "      <th>nwound</th>\n",
       "      <th>propextent_txt</th>\n",
       "      <th>ransomamt</th>\n",
       "    </tr>\n",
       "  </thead>\n",
       "  <tbody>\n",
       "    <tr>\n",
       "      <th>0</th>\n",
       "      <td>2012</td>\n",
       "      <td>1</td>\n",
       "      <td>1</td>\n",
       "      <td>Kenya</td>\n",
       "      <td>Garissa</td>\n",
       "      <td>Armed Assault</td>\n",
       "      <td>Business</td>\n",
       "      <td>Locus Pub</td>\n",
       "      <td>Bar</td>\n",
       "      <td>Kenya</td>\n",
       "      <td>Al-Shabaab</td>\n",
       "      <td>Explosives/Bombs/Dynamite</td>\n",
       "      <td>Grenade</td>\n",
       "      <td>Two grenades and AK-47 assault rifles were use...</td>\n",
       "      <td>3.0</td>\n",
       "      <td>14.0</td>\n",
       "      <td>Minor (likely &lt; $1 million)</td>\n",
       "      <td>NaN</td>\n",
       "    </tr>\n",
       "    <tr>\n",
       "      <th>1</th>\n",
       "      <td>2012</td>\n",
       "      <td>1</td>\n",
       "      <td>1</td>\n",
       "      <td>Pakistan</td>\n",
       "      <td>Sui</td>\n",
       "      <td>Bombing/Explosion</td>\n",
       "      <td>Military</td>\n",
       "      <td>Frontier Corps (FC)</td>\n",
       "      <td>Soldiers</td>\n",
       "      <td>Pakistan</td>\n",
       "      <td>Baloch Republican Army (BRA)</td>\n",
       "      <td>Explosives/Bombs/Dynamite</td>\n",
       "      <td>Land Mine</td>\n",
       "      <td>NaN</td>\n",
       "      <td>4.0</td>\n",
       "      <td>3.0</td>\n",
       "      <td>Minor (likely &lt; $1 million)</td>\n",
       "      <td>NaN</td>\n",
       "    </tr>\n",
       "    <tr>\n",
       "      <th>2</th>\n",
       "      <td>2012</td>\n",
       "      <td>1</td>\n",
       "      <td>1</td>\n",
       "      <td>Kenya</td>\n",
       "      <td>Garissa</td>\n",
       "      <td>Armed Assault</td>\n",
       "      <td>Business</td>\n",
       "      <td>Unknown</td>\n",
       "      <td>Bar</td>\n",
       "      <td>Kenya</td>\n",
       "      <td>Al-Shabaab</td>\n",
       "      <td>Explosives/Bombs/Dynamite</td>\n",
       "      <td>Grenade</td>\n",
       "      <td>NaN</td>\n",
       "      <td>2.0</td>\n",
       "      <td>14.0</td>\n",
       "      <td>Minor (likely &lt; $1 million)</td>\n",
       "      <td>NaN</td>\n",
       "    </tr>\n",
       "    <tr>\n",
       "      <th>3</th>\n",
       "      <td>2012</td>\n",
       "      <td>1</td>\n",
       "      <td>1</td>\n",
       "      <td>Afghanistan</td>\n",
       "      <td>Karez</td>\n",
       "      <td>Bombing/Explosion</td>\n",
       "      <td>Military</td>\n",
       "      <td>North Atlantic Treaty Organization (NATO): Int...</td>\n",
       "      <td>Vehicle</td>\n",
       "      <td>International</td>\n",
       "      <td>Taliban</td>\n",
       "      <td>Explosives/Bombs/Dynamite</td>\n",
       "      <td>Unknown Explosive Type</td>\n",
       "      <td>NaN</td>\n",
       "      <td>0.0</td>\n",
       "      <td>0.0</td>\n",
       "      <td>Unknown</td>\n",
       "      <td>NaN</td>\n",
       "    </tr>\n",
       "    <tr>\n",
       "      <th>4</th>\n",
       "      <td>2012</td>\n",
       "      <td>1</td>\n",
       "      <td>1</td>\n",
       "      <td>Democratic Republic of the Congo</td>\n",
       "      <td>Shabunda</td>\n",
       "      <td>Facility/Infrastructure Attack</td>\n",
       "      <td>Private Citizens &amp; Property</td>\n",
       "      <td>Not Applicable</td>\n",
       "      <td>Civilians</td>\n",
       "      <td>Democratic Republic of the Congo</td>\n",
       "      <td>Democratic Front for the Liberation of Rwanda ...</td>\n",
       "      <td>Incendiary</td>\n",
       "      <td>Arson/Fire</td>\n",
       "      <td>NaN</td>\n",
       "      <td>18.0</td>\n",
       "      <td>5.0</td>\n",
       "      <td>Minor (likely &lt; $1 million)</td>\n",
       "      <td>NaN</td>\n",
       "    </tr>\n",
       "  </tbody>\n",
       "</table>\n",
       "</div>"
      ],
      "text/plain": [
       "   iyear  imonth  iday                       country_txt      city  \\\n",
       "0   2012       1     1                             Kenya   Garissa   \n",
       "1   2012       1     1                          Pakistan       Sui   \n",
       "2   2012       1     1                             Kenya   Garissa   \n",
       "3   2012       1     1                       Afghanistan     Karez   \n",
       "4   2012       1     1  Democratic Republic of the Congo  Shabunda   \n",
       "\n",
       "                  attacktype1_txt                targtype1_txt  \\\n",
       "0                   Armed Assault                     Business   \n",
       "1               Bombing/Explosion                     Military   \n",
       "2                   Armed Assault                     Business   \n",
       "3               Bombing/Explosion                     Military   \n",
       "4  Facility/Infrastructure Attack  Private Citizens & Property   \n",
       "\n",
       "                                               corp1    target1  \\\n",
       "0                                          Locus Pub        Bar   \n",
       "1                                Frontier Corps (FC)   Soldiers   \n",
       "2                                            Unknown        Bar   \n",
       "3  North Atlantic Treaty Organization (NATO): Int...    Vehicle   \n",
       "4                                     Not Applicable  Civilians   \n",
       "\n",
       "                        natlty1_txt  \\\n",
       "0                             Kenya   \n",
       "1                          Pakistan   \n",
       "2                             Kenya   \n",
       "3                     International   \n",
       "4  Democratic Republic of the Congo   \n",
       "\n",
       "                                               gname  \\\n",
       "0                                         Al-Shabaab   \n",
       "1                       Baloch Republican Army (BRA)   \n",
       "2                                         Al-Shabaab   \n",
       "3                                            Taliban   \n",
       "4  Democratic Front for the Liberation of Rwanda ...   \n",
       "\n",
       "               weaptype1_txt        weapsubtype1_txt  \\\n",
       "0  Explosives/Bombs/Dynamite                 Grenade   \n",
       "1  Explosives/Bombs/Dynamite               Land Mine   \n",
       "2  Explosives/Bombs/Dynamite                 Grenade   \n",
       "3  Explosives/Bombs/Dynamite  Unknown Explosive Type   \n",
       "4                 Incendiary              Arson/Fire   \n",
       "\n",
       "                                          weapdetail  nkill  nwound  \\\n",
       "0  Two grenades and AK-47 assault rifles were use...    3.0    14.0   \n",
       "1                                                NaN    4.0     3.0   \n",
       "2                                                NaN    2.0    14.0   \n",
       "3                                                NaN    0.0     0.0   \n",
       "4                                                NaN   18.0     5.0   \n",
       "\n",
       "                propextent_txt  ransomamt  \n",
       "0  Minor (likely < $1 million)        NaN  \n",
       "1  Minor (likely < $1 million)        NaN  \n",
       "2  Minor (likely < $1 million)        NaN  \n",
       "3                      Unknown        NaN  \n",
       "4  Minor (likely < $1 million)        NaN  "
      ]
     },
     "execution_count": 5,
     "metadata": {},
     "output_type": "execute_result"
    }
   ],
   "source": [
    "terr_df=pd.read_excel(\"/home/amartya/Documents/Machine-Learning/datasets/Project/Project_Dataset.xlsm\")\n",
    "terr_df.info()\n",
    "terr_df.head()"
   ]
  },
  {
   "cell_type": "code",
   "execution_count": 6,
   "metadata": {},
   "outputs": [
    {
     "data": {
      "text/plain": [
       "iyear                   5\n",
       "imonth                 12\n",
       "iday                   31\n",
       "country_txt           125\n",
       "city                13203\n",
       "attacktype1_txt         9\n",
       "targtype1_txt          22\n",
       "corp1                7632\n",
       "target1             11783\n",
       "natlty1_txt           146\n",
       "gname                 769\n",
       "weaptype1_txt          11\n",
       "weapsubtype1_txt       28\n",
       "weapdetail           6042\n",
       "nkill                 144\n",
       "nwound                148\n",
       "propextent_txt          3\n",
       "ransomamt             164\n",
       "dtype: int64"
      ]
     },
     "execution_count": 6,
     "metadata": {},
     "output_type": "execute_result"
    }
   ],
   "source": [
    "terr_df.nunique()"
   ]
  },
  {
   "cell_type": "markdown",
   "metadata": {},
   "source": [
    "### Glancing at the dataset, we can draw the following conclusions:\n",
    "- There are many terrorist organisations,769 of them to be exact, but not all of them are equally notorious.\n",
    "- Date,month,year are given in different columns,which is not needed.\n",
    "- \"weapdetail\",\"corp1\",\"target1\",\"city\" are actually proper nouns with very high number of unique values.\n",
    "- There are some columns with 'nan' values."
   ]
  },
  {
   "cell_type": "markdown",
   "metadata": {},
   "source": [
    "### Dropping columns with high unique value count:"
   ]
  },
  {
   "cell_type": "code",
   "execution_count": 7,
   "metadata": {},
   "outputs": [],
   "source": [
    "terr_df.drop([\"weapdetail\",\"corp1\",\"target1\"],axis=1,inplace=True)"
   ]
  },
  {
   "cell_type": "markdown",
   "metadata": {},
   "source": [
    "### Dealing with 'nan' values:"
   ]
  },
  {
   "cell_type": "code",
   "execution_count": 8,
   "metadata": {},
   "outputs": [],
   "source": [
    "terr_df[\"natlty1_txt\"]=terr_df[\"natlty1_txt\"].fillna(\"Unknown\")\n",
    "terr_df['propextent_txt']=terr_df['propextent_txt'].fillna(\"Unknown\",inplace=True)\n",
    "terr_df.weapsubtype1_txt=terr_df.weapsubtype1_txt.fillna(\"Unknown\")\n",
    "terr_df['ransomamt'].fillna(0,inplace=True)\n",
    "terr_df['nwound'].fillna(0,inplace=True) \n",
    "terr_df['nkill'].fillna(0,inplace=True) "
   ]
  },
  {
   "cell_type": "markdown",
   "metadata": {},
   "source": [
    "### Merging iday,imonth,iyear columns into one:"
   ]
  },
  {
   "cell_type": "code",
   "execution_count": 9,
   "metadata": {},
   "outputs": [],
   "source": [
    "terr_df=terr_df.assign(idate=terr_df['iyear']*10000+terr_df['imonth']*100+terr_df['iday'])\n",
    "terr_df.drop([\"iyear\",\"iday\",\"imonth\"],axis=1,inplace=True)\n",
    "new_col_list = list(terr_df.columns.values)\n",
    "new_col_list.remove('idate')\n",
    "new_col_list.insert(0,'idate')\n",
    "terr_df = terr_df[new_col_list]"
   ]
  },
  {
   "cell_type": "markdown",
   "metadata": {},
   "source": [
    "### Looking at the label:"
   ]
  },
  {
   "cell_type": "code",
   "execution_count": 10,
   "metadata": {},
   "outputs": [
    {
     "data": {
      "text/plain": [
       "Unknown                                                  12210\n",
       "Taliban                                                   4900\n",
       "Islamic State of Iraq and the Levant (ISIL)               4273\n",
       "Al-Shabaab                                                2350\n",
       "Boko Haram                                                1921\n",
       "                                                         ...  \n",
       "Pattani United Liberation Organization-MKP (PULO-MKP)        1\n",
       "South East Antrim Brigade                                    1\n",
       "United Gorkha People's Organization (UGPO)                   1\n",
       "Shan State Army - South (SSA-S)                              1\n",
       "People's United Liberation Front (PULF)                      1\n",
       "Name: gname, Length: 769, dtype: int64"
      ]
     },
     "execution_count": 10,
     "metadata": {},
     "output_type": "execute_result"
    }
   ],
   "source": [
    "terr_df.gname.value_counts()"
   ]
  },
  {
   "cell_type": "markdown",
   "metadata": {},
   "source": [
    "### Creating two series for 'gname' (terrorist organisations):\n",
    "- Infamous groups\n",
    "- Small groups"
   ]
  },
  {
   "cell_type": "code",
   "execution_count": 11,
   "metadata": {},
   "outputs": [],
   "source": [
    "terr_df.set_index(\"gname\",inplace=True)\n",
    "notorious_list=pd.Series(pd.value_counts(terr_df.index))\n",
    "notorious_list.drop(\"Unknown\",inplace=True)\n",
    "ns_notorious_list=pd.Series(notorious_list.drop(notorious_list.index[(notorious_list>50)]))\n",
    "terr_df.reset_index(level=[\"gname\"],inplace=True)\n"
   ]
  },
  {
   "cell_type": "markdown",
   "metadata": {},
   "source": [
    "### Reducing the no. of terrorist organisations:\n",
    "**As mentioned earlier, there are too many terrorist groups but not all are important.**\n",
    "- We already have two series for notorious and not so well known groups based on their count of attacks.\n",
    "- Now the count of small and not heard of groups is way too many. We club these smaller groups according to their country of origin."
   ]
  },
  {
   "cell_type": "code",
   "execution_count": 12,
   "metadata": {},
   "outputs": [
    {
     "data": {
      "text/plain": [
       "Unknown                                        12210\n",
       "Taliban                                         4900\n",
       "Islamic State of Iraq and the Levant (ISIL)     4273\n",
       "Al-Shabaab                                      2350\n",
       "Boko Haram                                      1921\n",
       "                                               ...  \n",
       "Others in Finland                                  1\n",
       "Others in Brazil                                   1\n",
       "Others in Corsica                                  1\n",
       "Others in Singapore                                1\n",
       "Others in Liberia                                  1\n",
       "Name: gname, Length: 167, dtype: int64"
      ]
     },
     "execution_count": 12,
     "metadata": {},
     "output_type": "execute_result"
    }
   ],
   "source": [
    "change_ser=pd.Series(dtype='object')\n",
    "names=pd.Series(terr_df[\"natlty1_txt\"].unique())\n",
    "names.dropna(inplace=True)\n",
    "for index,row in terr_df.iterrows():\n",
    "    if row[\"gname\"] in ns_notorious_list:\n",
    "        terr_df.at[index,\"gname\"]=\"Others in \"+row[\"natlty1_txt\"]   \n",
    "terr_df.gname.value_counts()"
   ]
  },
  {
   "cell_type": "markdown",
   "metadata": {},
   "source": [
    "### Dealing further with 'gname':\n",
    "- As we can see even after clubbing them together there are many groups with with very low attack count.\n",
    "- We can further club them together into a single group."
   ]
  },
  {
   "cell_type": "code",
   "execution_count": 13,
   "metadata": {},
   "outputs": [],
   "source": [
    "notorious_list=terr_df[\"gname\"].value_counts()\n",
    "ns_notorious_list=pd.Series(notorious_list.drop(notorious_list.index[(notorious_list>50)]))\n",
    "notorious_list.drop(notorious_list.index[(notorious_list<50)],inplace=True)\n",
    "for index,row in terr_df.iterrows():\n",
    "    if row[\"gname\"] in ns_notorious_list:\n",
    "        terr_df.at[index,\"gname\"]=\"Others\""
   ]
  },
  {
   "cell_type": "markdown",
   "metadata": {},
   "source": [
    "### This grouping can further be reduced:\n",
    "- Some of the larger groups span across the continent and have different names for different regions. They can be brought under the same name."
   ]
  },
  {
   "cell_type": "code",
   "execution_count": 14,
   "metadata": {},
   "outputs": [],
   "source": [
    "terr_df.replace(to_replace=\"Tehrik-i-Taliban Pakistan (TTP)\",value=\"Taliban\",inplace=True)\n",
    "terr_df.replace(to_replace=[\"Al-Qaida in the Arabian Peninsula (AQAP)\",\"Al-Qaida in Iraq\",\"Al-Qaida in the Islamic Maghreb (AQIM)\"],value=\"Al-Qaida\",inplace=True)\n",
    "terr_df.replace(to_replace=[\"Sinai Province of the Islamic State\",\"Tripoli Province of the Islamic State\",\"Barqa Province of the Islamic State\",\"Khorasan Chapter of the Islamic State\",\"Islamic State of Iraq and the Levant (ISIL)\"],value=\"ISIL\",inplace=True)"
   ]
  },
  {
   "cell_type": "code",
   "execution_count": 15,
   "metadata": {},
   "outputs": [
    {
     "data": {
      "text/plain": [
       "Unknown                                                  12210\n",
       "Taliban                                                   5599\n",
       "ISIL                                                      5226\n",
       "Al-Shabaab                                                2350\n",
       "Boko Haram                                                1921\n",
       "                                                         ...  \n",
       "Jamaat-E-Islami (Bangladesh)                                54\n",
       "Ansar al-Dine (Mali)                                        53\n",
       "Sindhu Desh Liberation Army (SDLA)                          52\n",
       "Bangladesh Nationalist Party (BNP)                          52\n",
       "Movement for Oneness and Jihad in West Africa (MUJAO)       51\n",
       "Name: gname, Length: 82, dtype: int64"
      ]
     },
     "execution_count": 15,
     "metadata": {},
     "output_type": "execute_result"
    }
   ],
   "source": [
    "terr_df.gname.value_counts()"
   ]
  },
  {
   "cell_type": "markdown",
   "metadata": {},
   "source": [
    "### Dropping rows with gname as 'Unknown': \n",
    " - As they not going to aid us in our predictions."
   ]
  },
  {
   "cell_type": "code",
   "execution_count": 16,
   "metadata": {},
   "outputs": [
    {
     "data": {
      "text/plain": [
       "(31705, 13)"
      ]
     },
     "execution_count": 16,
     "metadata": {},
     "output_type": "execute_result"
    }
   ],
   "source": [
    "terr_df.drop(terr_df[terr_df.gname=='Unknown'].index,inplace=True)\n",
    "terr_df.shape"
   ]
  },
  {
   "cell_type": "markdown",
   "metadata": {},
   "source": [
    "### Doing the same for features:\n",
    "- 'targtype1_txt'\n",
    "- 'weaptype1_txt'"
   ]
  },
  {
   "cell_type": "code",
   "execution_count": 17,
   "metadata": {},
   "outputs": [
    {
     "data": {
      "text/plain": [
       "<BarContainer object of 5 artists>"
      ]
     },
     "execution_count": 17,
     "metadata": {},
     "output_type": "execute_result"
    },
    {
     "data": {
      "image/png": "[encoded data removed]",
      "text/plain": [
       "<Figure size 720x504 with 1 Axes>"
      ]
     },
     "metadata": {
      "needs_background": "light"
     },
     "output_type": "display_data"
    }
   ],
   "source": [
    "plt.bar(terr_df[(terr_df.targtype1_txt==\"Religious Figures/Institutions\")].gname.value_counts()[:5].index,terr_df[(terr_df.targtype1_txt==\"Religious Figures/Institutions\")].gname.value_counts()[:5].values)\n"
   ]
  },
  {
   "cell_type": "code",
   "execution_count": 18,
   "metadata": {},
   "outputs": [
    {
     "data": {
      "text/plain": [
       "<BarContainer object of 5 artists>"
      ]
     },
     "execution_count": 18,
     "metadata": {},
     "output_type": "execute_result"
    },
    {
     "data": {
      "image/png": "[encoded data removed]",
      "text/plain": [
       "<Figure size 720x504 with 1 Axes>"
      ]
     },
     "metadata": {
      "needs_background": "light"
     },
     "output_type": "display_data"
    }
   ],
   "source": [
    "plt.bar(terr_df[(terr_df.targtype1_txt==\"Educational Institution\")].gname.value_counts()[:5].index,terr_df[(terr_df.targtype1_txt==\"Religious Figures/Institutions\")].gname.value_counts()[:5].values)\n"
   ]
  },
  {
   "cell_type": "code",
   "execution_count": 19,
   "metadata": {},
   "outputs": [
    {
     "data": {
      "text/plain": [
       "<BarContainer object of 5 artists>"
      ]
     },
     "execution_count": 19,
     "metadata": {},
     "output_type": "execute_result"
    },
    {
     "data": {
      "image/png": "[encoded data removed]",
      "text/plain": [
       "<Figure size 720x504 with 1 Axes>"
      ]
     },
     "metadata": {
      "needs_background": "light"
     },
     "output_type": "display_data"
    }
   ],
   "source": [
    "plt.bar(terr_df[(terr_df.targtype1_txt==\"NGO\")].gname.value_counts()[:5].index,terr_df[(terr_df.targtype1_txt==\"Religious Figures/Institutions\")].gname.value_counts()[:5].values)\n"
   ]
  },
  {
   "cell_type": "code",
   "execution_count": 20,
   "metadata": {},
   "outputs": [
    {
     "data": {
      "text/plain": [
       "<BarContainer object of 5 artists>"
      ]
     },
     "execution_count": 20,
     "metadata": {},
     "output_type": "execute_result"
    },
    {
     "data": {
      "image/png": "[encoded data removed]",
      "text/plain": [
       "<Figure size 720x504 with 1 Axes>"
      ]
     },
     "metadata": {
      "needs_background": "light"
     },
     "output_type": "display_data"
    }
   ],
   "source": [
    "plt.bar(terr_df[(terr_df.targtype1_txt==\"NGO\")|(terr_df.targtype1_txt==\"Educational Institution\")|(terr_df.targtype1_txt==\"Religious Figures/Institutions\")].gname.value_counts()[:5].index,terr_df[(terr_df.targtype1_txt==\"NGO\")|(terr_df.targtype1_txt==\"Educational Institution\")|(terr_df.targtype1_txt==\"Religious Figures/Institutions\")].gname.value_counts()[:5].values)\n"
   ]
  },
  {
   "cell_type": "markdown",
   "metadata": {},
   "source": [
    "### The above plots are for the top five terrrorist organisations that attack:\n",
    "- Religious Figures/Institutions\n",
    "- Educational Institutions\n",
    "- NGO\n",
    "- All the above\n",
    "### Inference:\n",
    "**As can be seen the top terrorist organisations remain almost same with change in the mentioned target type.**"
   ]
  },
  {
   "cell_type": "code",
   "execution_count": 21,
   "metadata": {},
   "outputs": [],
   "source": [
    "terr_df.replace(to_replace =[\"Religious Figures/Institutions\",\"Educational Institution\",\"NGO\"],  \n",
    "                            value =\"Peaceful Institutions/Organisations\",inplace=True)"
   ]
  },
  {
   "cell_type": "markdown",
   "metadata": {},
   "source": [
    "### Doing the same for other \"targtype1_txt\" values:"
   ]
  },
  {
   "cell_type": "code",
   "execution_count": 22,
   "metadata": {},
   "outputs": [],
   "source": [
    "terr_df.replace(to_replace =[\"Government (Diplomatic)\",\"Government (General)\"],  \n",
    "                            value =\"Government\",inplace=True)\n",
    "terr_df.replace(to_replace =[\"Abortion Related\"],  \n",
    "                            value =\"Other\",inplace=True) \n",
    "terr_df.replace(to_replace =[\"Food or Water Supply\",\"Transportation\",\"Airports & Aircraft\",\"Maritime\",\"Journalists & Media\",\"Telecommunication\"],  \n",
    "                            value =\"Utilities\",inplace=True) \n",
    "terr_df.replace(to_replace =[\"Violent Political Party\",\"Terrorists/Non-State Militia\"],  \n",
    "                            value =\"Enemy Combatants\",inplace=True) \n",
    "terr_df.replace(to_replace =[\"Tourists\"],  \n",
    "                            value =\"Private Citizens & Property\",inplace=True)"
   ]
  },
  {
   "cell_type": "markdown",
   "metadata": {},
   "source": [
    "### Moving on to 'weaptype1_txt':"
   ]
  },
  {
   "cell_type": "code",
   "execution_count": 23,
   "metadata": {},
   "outputs": [],
   "source": [
    "terr_df.replace(to_replace=[\"Vehicle (not to include vehicle-borne explosives, i.e., car or truck bombs)\",\"Sabotage Equipment\",\"Fake Weapons\",\"Other\"],value=\"Others\",inplace=True)\n"
   ]
  },
  {
   "cell_type": "code",
   "execution_count": 24,
   "metadata": {},
   "outputs": [
    {
     "data": {
      "text/plain": [
       "0.08203753351206435"
      ]
     },
     "execution_count": 24,
     "metadata": {},
     "output_type": "execute_result"
    }
   ],
   "source": [
    "a=np.where(terr_df.natlty1_txt != terr_df.country_txt,1,0 )\n",
    "(a.sum()-terr_df.natlty1_txt.isnull().sum())/terr_df.shape[0]"
   ]
  },
  {
   "cell_type": "markdown",
   "metadata": {},
   "source": [
    "### Label Encoding:"
   ]
  },
  {
   "cell_type": "code",
   "execution_count": 25,
   "metadata": {},
   "outputs": [],
   "source": [
    "terr_df['propextent_txt']=terr_df['propextent_txt'].fillna(\"Unknown\",inplace=True)\n",
    "terr_df.weapsubtype1_txt=terr_df.weapsubtype1_txt.fillna(\"Unknown\")\n",
    "d1={'Minor (likely < $1 million)' :1,'Unknown':0,'Major (likely > $1 million but < $1 billion)':2}\n",
    "terr_df['propextent_txt'].replace(d1,inplace=True)\n",
    "terr_df['propextent_txt'].fillna(0,inplace=True)\n",
    "label_encoder = preprocessing.LabelEncoder()\n",
    "terr_df.nkill.fillna(0,inplace=True)\n",
    "terr_df.nwound.fillna(0,inplace=True)\n",
    "terr_df['weaptype1_txt']= label_encoder.fit_transform(terr_df['weaptype1_txt']) \n",
    "terr_df['country_txt']= label_encoder.fit_transform(terr_df['country_txt']) \n",
    "terr_df['attacktype1_txt']= label_encoder.fit_transform(terr_df['attacktype1_txt']) \n",
    "terr_df['targtype1_txt']= label_encoder.fit_transform(terr_df['targtype1_txt']) \n",
    "terr_df['weapsubtype1_txt']= label_encoder.fit_transform(terr_df['weapsubtype1_txt'])\n",
    "terr_df['city']=label_encoder.fit_transform(terr_df['city'])\n",
    "terr_df['natlty1_txt']=label_encoder.fit_transform(terr_df['natlty1_txt'])\n",
    "terr_df['gname']=label_encoder.fit_transform(terr_df['gname'])"
   ]
  },
  {
   "cell_type": "code",
   "execution_count": 26,
   "metadata": {},
   "outputs": [
    {
     "data": {
      "text/html": [
       "<div>\n",
       "<style scoped>\n",
       "    .dataframe tbody tr th:only-of-type {\n",
       "        vertical-align: middle;\n",
       "    }\n",
       "\n",
       "    .dataframe tbody tr th {\n",
       "        vertical-align: top;\n",
       "    }\n",
       "\n",
       "    .dataframe thead th {\n",
       "        text-align: right;\n",
       "    }\n",
       "</style>\n",
       "<table border=\"1\" class=\"dataframe\">\n",
       "  <thead>\n",
       "    <tr style=\"text-align: right;\">\n",
       "      <th></th>\n",
       "      <th>gname</th>\n",
       "      <th>idate</th>\n",
       "      <th>country_txt</th>\n",
       "      <th>city</th>\n",
       "      <th>attacktype1_txt</th>\n",
       "      <th>targtype1_txt</th>\n",
       "      <th>natlty1_txt</th>\n",
       "      <th>weaptype1_txt</th>\n",
       "      <th>weapsubtype1_txt</th>\n",
       "      <th>nkill</th>\n",
       "      <th>nwound</th>\n",
       "      <th>propextent_txt</th>\n",
       "      <th>ransomamt</th>\n",
       "    </tr>\n",
       "  </thead>\n",
       "  <tbody>\n",
       "    <tr>\n",
       "      <th>0</th>\n",
       "      <td>3</td>\n",
       "      <td>20120101</td>\n",
       "      <td>46</td>\n",
       "      <td>3348</td>\n",
       "      <td>0</td>\n",
       "      <td>0</td>\n",
       "      <td>52</td>\n",
       "      <td>2</td>\n",
       "      <td>6</td>\n",
       "      <td>3.0</td>\n",
       "      <td>14.0</td>\n",
       "      <td>0</td>\n",
       "      <td>0.0</td>\n",
       "    </tr>\n",
       "    <tr>\n",
       "      <th>1</th>\n",
       "      <td>13</td>\n",
       "      <td>20120101</td>\n",
       "      <td>66</td>\n",
       "      <td>9165</td>\n",
       "      <td>2</td>\n",
       "      <td>3</td>\n",
       "      <td>80</td>\n",
       "      <td>2</td>\n",
       "      <td>10</td>\n",
       "      <td>4.0</td>\n",
       "      <td>3.0</td>\n",
       "      <td>0</td>\n",
       "      <td>0.0</td>\n",
       "    </tr>\n",
       "    <tr>\n",
       "      <th>2</th>\n",
       "      <td>3</td>\n",
       "      <td>20120101</td>\n",
       "      <td>46</td>\n",
       "      <td>3348</td>\n",
       "      <td>0</td>\n",
       "      <td>0</td>\n",
       "      <td>52</td>\n",
       "      <td>2</td>\n",
       "      <td>6</td>\n",
       "      <td>2.0</td>\n",
       "      <td>14.0</td>\n",
       "      <td>0</td>\n",
       "      <td>0.0</td>\n",
       "    </tr>\n",
       "    <tr>\n",
       "      <th>3</th>\n",
       "      <td>77</td>\n",
       "      <td>20120101</td>\n",
       "      <td>0</td>\n",
       "      <td>4792</td>\n",
       "      <td>2</td>\n",
       "      <td>3</td>\n",
       "      <td>42</td>\n",
       "      <td>2</td>\n",
       "      <td>25</td>\n",
       "      <td>0.0</td>\n",
       "      <td>0.0</td>\n",
       "      <td>0</td>\n",
       "      <td>0.0</td>\n",
       "    </tr>\n",
       "    <tr>\n",
       "      <th>4</th>\n",
       "      <td>19</td>\n",
       "      <td>20120101</td>\n",
       "      <td>24</td>\n",
       "      <td>8704</td>\n",
       "      <td>3</td>\n",
       "      <td>7</td>\n",
       "      <td>27</td>\n",
       "      <td>4</td>\n",
       "      <td>0</td>\n",
       "      <td>18.0</td>\n",
       "      <td>5.0</td>\n",
       "      <td>0</td>\n",
       "      <td>0.0</td>\n",
       "    </tr>\n",
       "  </tbody>\n",
       "</table>\n",
       "</div>"
      ],
      "text/plain": [
       "   gname     idate  country_txt  city  attacktype1_txt  targtype1_txt  \\\n",
       "0      3  20120101           46  3348                0              0   \n",
       "1     13  20120101           66  9165                2              3   \n",
       "2      3  20120101           46  3348                0              0   \n",
       "3     77  20120101            0  4792                2              3   \n",
       "4     19  20120101           24  8704                3              7   \n",
       "\n",
       "   natlty1_txt  weaptype1_txt  weapsubtype1_txt  nkill  nwound  \\\n",
       "0           52              2                 6    3.0    14.0   \n",
       "1           80              2                10    4.0     3.0   \n",
       "2           52              2                 6    2.0    14.0   \n",
       "3           42              2                25    0.0     0.0   \n",
       "4           27              4                 0   18.0     5.0   \n",
       "\n",
       "   propextent_txt  ransomamt  \n",
       "0               0        0.0  \n",
       "1               0        0.0  \n",
       "2               0        0.0  \n",
       "3               0        0.0  \n",
       "4               0        0.0  "
      ]
     },
     "execution_count": 26,
     "metadata": {},
     "output_type": "execute_result"
    }
   ],
   "source": [
    "terr_df.head()"
   ]
  },
  {
   "cell_type": "code",
   "execution_count": 27,
   "metadata": {},
   "outputs": [
    {
     "data": {
      "text/plain": [
       "77    5599\n",
       "28    5226\n",
       "3     2350\n",
       "16    1921\n",
       "2     1303\n",
       "      ... \n",
       "29      54\n",
       "7       53\n",
       "74      52\n",
       "14      52\n",
       "39      51\n",
       "Name: gname, Length: 81, dtype: int64"
      ]
     },
     "execution_count": 27,
     "metadata": {},
     "output_type": "execute_result"
    }
   ],
   "source": [
    "terr_df.gname.value_counts()"
   ]
  },
  {
   "cell_type": "markdown",
   "metadata": {},
   "source": [
    " ### Inference:\n",
    " - It can be said that our target column is imbalanced, so we need to split the data into training and testing accordingly."
   ]
  },
  {
   "cell_type": "code",
   "execution_count": 28,
   "metadata": {},
   "outputs": [],
   "source": [
    "X=terr_df.drop(['gname'],axis=1)\n",
    "y=terr_df['gname']\n",
    "Xtrain,Xtest,ytrain,ytest=model_selection.train_test_split(X,y,test_size=0.2,stratify=y)"
   ]
  },
  {
   "cell_type": "markdown",
   "metadata": {},
   "source": [
    "## Training and Testing part. \n",
    " "
   ]
  },
  {
   "cell_type": "markdown",
   "metadata": {},
   "source": [
    "### Target column tells us that this is a classification problem.\n",
    "- So we apply classification algorithms and check there f1 scores.(As recall and precision both are equally important.)"
   ]
  },
  {
   "cell_type": "code",
   "execution_count": 28,
   "metadata": {},
   "outputs": [],
   "source": [
    "def modelstats1(Xtrain,Xtest,ytrain,ytest):\n",
    "    stats=[]\n",
    "    modelnames=[\"Rf\",\"DecisionTree\",\"KNN\",\"NB\"]\n",
    "    models=list()\n",
    "    models.append(ensemble.RandomForestClassifier())\n",
    "    models.append(tree.DecisionTreeClassifier())\n",
    "    models.append(neighbors.KNeighborsClassifier())\n",
    "    models.append(naive_bayes.GaussianNB())\n",
    "    for name,model in zip(modelnames,models):\n",
    "     model.fit(Xtrain,ytrain)\n",
    "     trainprediction=model.predict(Xtrain)\n",
    "     testprediction=model.predict(Xtest)\n",
    "     scores=list()\n",
    "     scores.append(name+\"-train\")\n",
    "     scores.append(metrics.f1_score(ytrain,trainprediction,average='weighted')) # average = \"weighted\" is used since it is a multiclass classification\n",
    "     stats.append(scores)\n",
    "     scores=list()\n",
    "     scores.append(name+\"-test\")\n",
    "     scores.append(metrics.f1_score(ytest,testprediction,average='weighted'))\n",
    "     stats.append(scores)\n",
    "     colnames=[\"MODELNAME\",\"F1\"]\n",
    "    return pd.DataFrame(stats,columns=colnames)\n"
   ]
  },
  {
   "cell_type": "code",
   "execution_count": 31,
   "metadata": {},
   "outputs": [
    {
     "name": "stderr",
     "output_type": "stream",
     "text": [
      "D:\\Machine learning\\installconda\\lib\\site-packages\\sklearn\\ensemble\\forest.py:245: FutureWarning: The default value of n_estimators will change from 10 in version 0.20 to 100 in 0.22.\n",
      "  \"10 in version 0.20 to 100 in 0.22.\", FutureWarning)\n",
      "D:\\Machine learning\\installconda\\lib\\site-packages\\sklearn\\metrics\\classification.py:1437: UndefinedMetricWarning: F-score is ill-defined and being set to 0.0 in labels with no predicted samples.\n",
      "  'precision', 'predicted', average, warn_for)\n",
      "D:\\Machine learning\\installconda\\lib\\site-packages\\sklearn\\metrics\\classification.py:1437: UndefinedMetricWarning: F-score is ill-defined and being set to 0.0 in labels with no predicted samples.\n",
      "  'precision', 'predicted', average, warn_for)\n",
      "D:\\Machine learning\\installconda\\lib\\site-packages\\sklearn\\metrics\\classification.py:1437: UndefinedMetricWarning: F-score is ill-defined and being set to 0.0 in labels with no predicted samples.\n",
      "  'precision', 'predicted', average, warn_for)\n"
     ]
    },
    {
     "data": {
      "text/html": [
       "<div>\n",
       "<style scoped>\n",
       "    .dataframe tbody tr th:only-of-type {\n",
       "        vertical-align: middle;\n",
       "    }\n",
       "\n",
       "    .dataframe tbody tr th {\n",
       "        vertical-align: top;\n",
       "    }\n",
       "\n",
       "    .dataframe thead th {\n",
       "        text-align: right;\n",
       "    }\n",
       "</style>\n",
       "<table border=\"1\" class=\"dataframe\">\n",
       "  <thead>\n",
       "    <tr style=\"text-align: right;\">\n",
       "      <th></th>\n",
       "      <th>MODELNAME</th>\n",
       "      <th>F1</th>\n",
       "    </tr>\n",
       "  </thead>\n",
       "  <tbody>\n",
       "    <tr>\n",
       "      <td>0</td>\n",
       "      <td>Rf-train</td>\n",
       "      <td>0.991609</td>\n",
       "    </tr>\n",
       "    <tr>\n",
       "      <td>1</td>\n",
       "      <td>Rf-test</td>\n",
       "      <td>0.770174</td>\n",
       "    </tr>\n",
       "    <tr>\n",
       "      <td>2</td>\n",
       "      <td>DecisionTree-train</td>\n",
       "      <td>0.999764</td>\n",
       "    </tr>\n",
       "    <tr>\n",
       "      <td>3</td>\n",
       "      <td>DecisionTree-test</td>\n",
       "      <td>0.777898</td>\n",
       "    </tr>\n",
       "    <tr>\n",
       "      <td>4</td>\n",
       "      <td>KNN-train</td>\n",
       "      <td>0.573693</td>\n",
       "    </tr>\n",
       "    <tr>\n",
       "      <td>5</td>\n",
       "      <td>KNN-test</td>\n",
       "      <td>0.424467</td>\n",
       "    </tr>\n",
       "    <tr>\n",
       "      <td>6</td>\n",
       "      <td>NB-train</td>\n",
       "      <td>0.009917</td>\n",
       "    </tr>\n",
       "    <tr>\n",
       "      <td>7</td>\n",
       "      <td>NB-test</td>\n",
       "      <td>0.009219</td>\n",
       "    </tr>\n",
       "  </tbody>\n",
       "</table>\n",
       "</div>"
      ],
      "text/plain": [
       "            MODELNAME        F1\n",
       "0            Rf-train  0.991609\n",
       "1             Rf-test  0.770174\n",
       "2  DecisionTree-train  0.999764\n",
       "3   DecisionTree-test  0.777898\n",
       "4           KNN-train  0.573693\n",
       "5            KNN-test  0.424467\n",
       "6            NB-train  0.009917\n",
       "7             NB-test  0.009219"
      ]
     },
     "execution_count": 31,
     "metadata": {},
     "output_type": "execute_result"
    }
   ],
   "source": [
    "modelstats1(Xtrain,Xtest,ytrain,ytest)"
   ]
  },
  {
   "cell_type": "markdown",
   "metadata": {},
   "source": [
    "### So we see that Random Forest (rf) and Decision Tree give a overfit model....which can be further improved\n",
    " - we use grid search CV  for hyperparameter tuning of the decision tree"
   ]
  },
  {
   "cell_type": "code",
   "execution_count": 33,
   "metadata": {},
   "outputs": [
    {
     "name": "stderr",
     "output_type": "stream",
     "text": [
      "D:\\Machine learning\\installconda\\lib\\site-packages\\sklearn\\model_selection\\_split.py:1978: FutureWarning: The default value of cv will change from 3 to 5 in version 0.22. Specify it explicitly to silence this warning.\n",
      "  warnings.warn(CV_WARNING, FutureWarning)\n"
     ]
    },
    {
     "data": {
      "text/plain": [
       "GridSearchCV(cv='warn', error_score='raise-deprecating',\n",
       "             estimator=DecisionTreeClassifier(class_weight=None,\n",
       "                                              criterion='gini', max_depth=None,\n",
       "                                              max_features=None,\n",
       "                                              max_leaf_nodes=None,\n",
       "                                              min_impurity_decrease=0.0,\n",
       "                                              min_impurity_split=None,\n",
       "                                              min_samples_leaf=1,\n",
       "                                              min_samples_split=2,\n",
       "                                              min_weight_fraction_leaf=0.0,\n",
       "                                              presort=False, random_state=0,\n",
       "                                              splitter='best'),\n",
       "             iid='warn', n_jobs=None,\n",
       "             param_grid={'max_depth': [10, 11, 12, 13, 14, 15, 16, 17, 18, 19],\n",
       "                         'min_samples_split': [2, 3, 4, 5, 6, 7, 8, 9]},\n",
       "             pre_dispatch='2*n_jobs', refit=True, return_train_score=False,\n",
       "             scoring=None, verbose=0)"
      ]
     },
     "execution_count": 33,
     "metadata": {},
     "output_type": "execute_result"
    }
   ],
   "source": [
    "h1 = {\"min_samples_split\":list(range(2,10)),\"max_depth\":list(range(10,20))}\n",
    "scorer = metrics.make_scorer(metrics.f1_score, average = 'weighted')\n",
    "gridobj = model_selection.GridSearchCV(estimator=tree.DecisionTreeClassifier(random_state=0),param_grid=h1)\n",
    "gridobj.fit(Xtrain,ytrain)"
   ]
  },
  {
   "cell_type": "code",
   "execution_count": 34,
   "metadata": {},
   "outputs": [
    {
     "data": {
      "text/plain": [
       "{'max_depth': 14, 'min_samples_split': 3}"
      ]
     },
     "execution_count": 34,
     "metadata": {},
     "output_type": "execute_result"
    }
   ],
   "source": [
    "gridobj.best_params_ "
   ]
  },
  {
   "cell_type": "markdown",
   "metadata": {},
   "source": [
    "### Now applying hyperparameter tuning to Decision Tree"
   ]
  },
  {
   "cell_type": "code",
   "execution_count": 36,
   "metadata": {},
   "outputs": [
    {
     "name": "stdout",
     "output_type": "stream",
     "text": [
      "f1 score on testing set =  0.7755100799797381\n",
      "f1 score on training set =  0.8806886755449397\n"
     ]
    }
   ],
   "source": [
    "np.random.seed(42)\n",
    "model=tree.DecisionTreeClassifier(max_depth=14,min_samples_split=3) \n",
    "model.fit(Xtrain,ytrain)\n",
    "predtrain=model.predict(Xtrain)\n",
    "predtest=model.predict(Xtest)\n",
    "t=metrics.precision_score(ytrain,predtrain,average='weighted')\n",
    "a=metrics.f1_score(ytest,predtest,average='weighted')\n",
    "print(\"f1 score on testing set = \",a) \n",
    "print(\"f1 score on training set = \",t) "
   ]
  },
  {
   "cell_type": "markdown",
   "metadata": {},
   "source": [
    "### We use grid search CV for hyperparameter tuning of the Random Forest"
   ]
  },
  {
   "cell_type": "code",
   "execution_count": 41,
   "metadata": {},
   "outputs": [
    {
     "name": "stderr",
     "output_type": "stream",
     "text": [
      "D:\\Machine learning\\installconda\\lib\\site-packages\\sklearn\\model_selection\\_split.py:1978: FutureWarning: The default value of cv will change from 3 to 5 in version 0.22. Specify it explicitly to silence this warning.\n",
      "  warnings.warn(CV_WARNING, FutureWarning)\n",
      "D:\\Machine learning\\installconda\\lib\\site-packages\\sklearn\\ensemble\\forest.py:245: FutureWarning: The default value of n_estimators will change from 10 in version 0.20 to 100 in 0.22.\n",
      "  \"10 in version 0.20 to 100 in 0.22.\", FutureWarning)\n",
      "D:\\Machine learning\\installconda\\lib\\site-packages\\sklearn\\ensemble\\forest.py:245: FutureWarning: The default value of n_estimators will change from 10 in version 0.20 to 100 in 0.22.\n",
      "  \"10 in version 0.20 to 100 in 0.22.\", FutureWarning)\n",
      "D:\\Machine learning\\installconda\\lib\\site-packages\\sklearn\\ensemble\\forest.py:245: FutureWarning: The default value of n_estimators will change from 10 in version 0.20 to 100 in 0.22.\n",
      "  \"10 in version 0.20 to 100 in 0.22.\", FutureWarning)\n",
      "D:\\Machine learning\\installconda\\lib\\site-packages\\sklearn\\ensemble\\forest.py:245: FutureWarning: The default value of n_estimators will change from 10 in version 0.20 to 100 in 0.22.\n",
      "  \"10 in version 0.20 to 100 in 0.22.\", FutureWarning)\n",
      "D:\\Machine learning\\installconda\\lib\\site-packages\\sklearn\\ensemble\\forest.py:245: FutureWarning: The default value of n_estimators will change from 10 in version 0.20 to 100 in 0.22.\n",
      "  \"10 in version 0.20 to 100 in 0.22.\", FutureWarning)\n",
      "D:\\Machine learning\\installconda\\lib\\site-packages\\sklearn\\ensemble\\forest.py:245: FutureWarning: The default value of n_estimators will change from 10 in version 0.20 to 100 in 0.22.\n",
      "  \"10 in version 0.20 to 100 in 0.22.\", FutureWarning)\n",
      "D:\\Machine learning\\installconda\\lib\\site-packages\\sklearn\\ensemble\\forest.py:245: FutureWarning: The default value of n_estimators will change from 10 in version 0.20 to 100 in 0.22.\n",
      "  \"10 in version 0.20 to 100 in 0.22.\", FutureWarning)\n",
      "D:\\Machine learning\\installconda\\lib\\site-packages\\sklearn\\ensemble\\forest.py:245: FutureWarning: The default value of n_estimators will change from 10 in version 0.20 to 100 in 0.22.\n",
      "  \"10 in version 0.20 to 100 in 0.22.\", FutureWarning)\n",
      "D:\\Machine learning\\installconda\\lib\\site-packages\\sklearn\\ensemble\\forest.py:245: FutureWarning: The default value of n_estimators will change from 10 in version 0.20 to 100 in 0.22.\n",
      "  \"10 in version 0.20 to 100 in 0.22.\", FutureWarning)\n",
      "D:\\Machine learning\\installconda\\lib\\site-packages\\sklearn\\ensemble\\forest.py:245: FutureWarning: The default value of n_estimators will change from 10 in version 0.20 to 100 in 0.22.\n",
      "  \"10 in version 0.20 to 100 in 0.22.\", FutureWarning)\n",
      "D:\\Machine learning\\installconda\\lib\\site-packages\\sklearn\\ensemble\\forest.py:245: FutureWarning: The default value of n_estimators will change from 10 in version 0.20 to 100 in 0.22.\n",
      "  \"10 in version 0.20 to 100 in 0.22.\", FutureWarning)\n",
      "D:\\Machine learning\\installconda\\lib\\site-packages\\sklearn\\ensemble\\forest.py:245: FutureWarning: The default value of n_estimators will change from 10 in version 0.20 to 100 in 0.22.\n",
      "  \"10 in version 0.20 to 100 in 0.22.\", FutureWarning)\n",
      "D:\\Machine learning\\installconda\\lib\\site-packages\\sklearn\\ensemble\\forest.py:245: FutureWarning: The default value of n_estimators will change from 10 in version 0.20 to 100 in 0.22.\n",
      "  \"10 in version 0.20 to 100 in 0.22.\", FutureWarning)\n",
      "D:\\Machine learning\\installconda\\lib\\site-packages\\sklearn\\ensemble\\forest.py:245: FutureWarning: The default value of n_estimators will change from 10 in version 0.20 to 100 in 0.22.\n",
      "  \"10 in version 0.20 to 100 in 0.22.\", FutureWarning)\n",
      "D:\\Machine learning\\installconda\\lib\\site-packages\\sklearn\\ensemble\\forest.py:245: FutureWarning: The default value of n_estimators will change from 10 in version 0.20 to 100 in 0.22.\n",
      "  \"10 in version 0.20 to 100 in 0.22.\", FutureWarning)\n",
      "D:\\Machine learning\\installconda\\lib\\site-packages\\sklearn\\ensemble\\forest.py:245: FutureWarning: The default value of n_estimators will change from 10 in version 0.20 to 100 in 0.22.\n",
      "  \"10 in version 0.20 to 100 in 0.22.\", FutureWarning)\n",
      "D:\\Machine learning\\installconda\\lib\\site-packages\\sklearn\\ensemble\\forest.py:245: FutureWarning: The default value of n_estimators will change from 10 in version 0.20 to 100 in 0.22.\n",
      "  \"10 in version 0.20 to 100 in 0.22.\", FutureWarning)\n",
      "D:\\Machine learning\\installconda\\lib\\site-packages\\sklearn\\ensemble\\forest.py:245: FutureWarning: The default value of n_estimators will change from 10 in version 0.20 to 100 in 0.22.\n",
      "  \"10 in version 0.20 to 100 in 0.22.\", FutureWarning)\n",
      "D:\\Machine learning\\installconda\\lib\\site-packages\\sklearn\\ensemble\\forest.py:245: FutureWarning: The default value of n_estimators will change from 10 in version 0.20 to 100 in 0.22.\n",
      "  \"10 in version 0.20 to 100 in 0.22.\", FutureWarning)\n",
      "D:\\Machine learning\\installconda\\lib\\site-packages\\sklearn\\ensemble\\forest.py:245: FutureWarning: The default value of n_estimators will change from 10 in version 0.20 to 100 in 0.22.\n",
      "  \"10 in version 0.20 to 100 in 0.22.\", FutureWarning)\n",
      "D:\\Machine learning\\installconda\\lib\\site-packages\\sklearn\\ensemble\\forest.py:245: FutureWarning: The default value of n_estimators will change from 10 in version 0.20 to 100 in 0.22.\n",
      "  \"10 in version 0.20 to 100 in 0.22.\", FutureWarning)\n",
      "D:\\Machine learning\\installconda\\lib\\site-packages\\sklearn\\ensemble\\forest.py:245: FutureWarning: The default value of n_estimators will change from 10 in version 0.20 to 100 in 0.22.\n",
      "  \"10 in version 0.20 to 100 in 0.22.\", FutureWarning)\n",
      "D:\\Machine learning\\installconda\\lib\\site-packages\\sklearn\\ensemble\\forest.py:245: FutureWarning: The default value of n_estimators will change from 10 in version 0.20 to 100 in 0.22.\n",
      "  \"10 in version 0.20 to 100 in 0.22.\", FutureWarning)\n",
      "D:\\Machine learning\\installconda\\lib\\site-packages\\sklearn\\ensemble\\forest.py:245: FutureWarning: The default value of n_estimators will change from 10 in version 0.20 to 100 in 0.22.\n",
      "  \"10 in version 0.20 to 100 in 0.22.\", FutureWarning)\n",
      "D:\\Machine learning\\installconda\\lib\\site-packages\\sklearn\\ensemble\\forest.py:245: FutureWarning: The default value of n_estimators will change from 10 in version 0.20 to 100 in 0.22.\n",
      "  \"10 in version 0.20 to 100 in 0.22.\", FutureWarning)\n",
      "D:\\Machine learning\\installconda\\lib\\site-packages\\sklearn\\ensemble\\forest.py:245: FutureWarning: The default value of n_estimators will change from 10 in version 0.20 to 100 in 0.22.\n",
      "  \"10 in version 0.20 to 100 in 0.22.\", FutureWarning)\n",
      "D:\\Machine learning\\installconda\\lib\\site-packages\\sklearn\\ensemble\\forest.py:245: FutureWarning: The default value of n_estimators will change from 10 in version 0.20 to 100 in 0.22.\n",
      "  \"10 in version 0.20 to 100 in 0.22.\", FutureWarning)\n",
      "D:\\Machine learning\\installconda\\lib\\site-packages\\sklearn\\ensemble\\forest.py:245: FutureWarning: The default value of n_estimators will change from 10 in version 0.20 to 100 in 0.22.\n",
      "  \"10 in version 0.20 to 100 in 0.22.\", FutureWarning)\n",
      "D:\\Machine learning\\installconda\\lib\\site-packages\\sklearn\\ensemble\\forest.py:245: FutureWarning: The default value of n_estimators will change from 10 in version 0.20 to 100 in 0.22.\n",
      "  \"10 in version 0.20 to 100 in 0.22.\", FutureWarning)\n",
      "D:\\Machine learning\\installconda\\lib\\site-packages\\sklearn\\ensemble\\forest.py:245: FutureWarning: The default value of n_estimators will change from 10 in version 0.20 to 100 in 0.22.\n",
      "  \"10 in version 0.20 to 100 in 0.22.\", FutureWarning)\n",
      "D:\\Machine learning\\installconda\\lib\\site-packages\\sklearn\\ensemble\\forest.py:245: FutureWarning: The default value of n_estimators will change from 10 in version 0.20 to 100 in 0.22.\n",
      "  \"10 in version 0.20 to 100 in 0.22.\", FutureWarning)\n",
      "D:\\Machine learning\\installconda\\lib\\site-packages\\sklearn\\ensemble\\forest.py:245: FutureWarning: The default value of n_estimators will change from 10 in version 0.20 to 100 in 0.22.\n",
      "  \"10 in version 0.20 to 100 in 0.22.\", FutureWarning)\n",
      "D:\\Machine learning\\installconda\\lib\\site-packages\\sklearn\\ensemble\\forest.py:245: FutureWarning: The default value of n_estimators will change from 10 in version 0.20 to 100 in 0.22.\n",
      "  \"10 in version 0.20 to 100 in 0.22.\", FutureWarning)\n",
      "D:\\Machine learning\\installconda\\lib\\site-packages\\sklearn\\ensemble\\forest.py:245: FutureWarning: The default value of n_estimators will change from 10 in version 0.20 to 100 in 0.22.\n",
      "  \"10 in version 0.20 to 100 in 0.22.\", FutureWarning)\n",
      "D:\\Machine learning\\installconda\\lib\\site-packages\\sklearn\\ensemble\\forest.py:245: FutureWarning: The default value of n_estimators will change from 10 in version 0.20 to 100 in 0.22.\n",
      "  \"10 in version 0.20 to 100 in 0.22.\", FutureWarning)\n",
      "D:\\Machine learning\\installconda\\lib\\site-packages\\sklearn\\ensemble\\forest.py:245: FutureWarning: The default value of n_estimators will change from 10 in version 0.20 to 100 in 0.22.\n",
      "  \"10 in version 0.20 to 100 in 0.22.\", FutureWarning)\n",
      "D:\\Machine learning\\installconda\\lib\\site-packages\\sklearn\\ensemble\\forest.py:245: FutureWarning: The default value of n_estimators will change from 10 in version 0.20 to 100 in 0.22.\n",
      "  \"10 in version 0.20 to 100 in 0.22.\", FutureWarning)\n"
     ]
    },
    {
     "data": {
      "text/plain": [
       "GridSearchCV(cv='warn', error_score='raise-deprecating',\n",
       "             estimator=RandomForestClassifier(bootstrap=True, class_weight=None,\n",
       "                                              criterion='gini', max_depth=None,\n",
       "                                              max_features='auto',\n",
       "                                              max_leaf_nodes=None,\n",
       "                                              min_impurity_decrease=0.0,\n",
       "                                              min_impurity_split=None,\n",
       "                                              min_samples_leaf=1,\n",
       "                                              min_samples_split=2,\n",
       "                                              min_weight_fraction_leaf=0.0,\n",
       "                                              n_estimators='warn', n_jobs=None,\n",
       "                                              oob_score=False, random_state=0,\n",
       "                                              verbose=0, warm_start=False),\n",
       "             iid='warn', n_jobs=None,\n",
       "             param_grid={'bootstrap': [True, False], 'max_depth': [10, 20],\n",
       "                         'min_samples_split': [2, 5, 10]},\n",
       "             pre_dispatch='2*n_jobs', refit=True, return_train_score=False,\n",
       "             scoring=None, verbose=0)"
      ]
     },
     "execution_count": 41,
     "metadata": {},
     "output_type": "execute_result"
    }
   ],
   "source": [
    "h1={'bootstrap': [True, False],\n",
    "    'max_depth': [10, 20],\n",
    "    'min_samples_split': [2, 5, 10]}\n",
    "scorer = metrics.make_scorer(metrics.f1_score, average = 'weighted')\n",
    "gridobj = model_selection.GridSearchCV(estimator=ensemble.RandomForestClassifier(random_state=0),param_grid=h1)\n",
    "gridobj.fit(Xtrain,ytrain)"
   ]
  },
  {
   "cell_type": "code",
   "execution_count": 42,
   "metadata": {},
   "outputs": [
    {
     "data": {
      "text/plain": [
       "{'bootstrap': False, 'max_depth': 20, 'min_samples_split': 5}"
      ]
     },
     "execution_count": 42,
     "metadata": {},
     "output_type": "execute_result"
    }
   ],
   "source": [
    "gridobj.best_params_ "
   ]
  },
  {
   "cell_type": "code",
   "execution_count": 43,
   "metadata": {},
   "outputs": [
    {
     "name": "stdout",
     "output_type": "stream",
     "text": [
      "f1 score on testing set =  0.8020857423531188\n",
      "f1 score on training set =  0.9857354901273389\n"
     ]
    }
   ],
   "source": [
    "np.random.seed(42)\n",
    "model=ensemble.RandomForestClassifier(n_estimators=200,bootstrap= False, max_depth= 20, min_samples_split= 5)\n",
    "model.fit(Xtrain,ytrain)\n",
    "predtrain=model.predict(Xtrain)\n",
    "predtest=model.predict(Xtest)\n",
    "a=metrics.f1_score(ytest,predtest,average='weighted')\n",
    "t=metrics.f1_score(ytrain,predtrain,average='weighted') \n",
    "print(\"f1 score on testing set = \",a) \n",
    "print(\"f1 score on training set = \",t)"
   ]
  },
  {
   "cell_type": "markdown",
   "metadata": {},
   "source": [
    "## Further efficiency of the model can be increased by Reccursive Feature Elimintaion\n"
   ]
  },
  {
   "cell_type": "code",
   "execution_count": 58,
   "metadata": {},
   "outputs": [],
   "source": [
    "def rfe_fselection(Xtrain,Xtest,ytrain,ytest,model):\n",
    "    np.random.seed(42)\n",
    "    train=[]\n",
    "    test=[]\n",
    "    for i in range(2,10):\n",
    "            rfecv=feature_selection.RFE(estimator=model,n_features_to_select=i)\n",
    "            rfecv.fit(Xtrain,ytrain)\n",
    "            cols=X.columns[rfecv.get_support()]\n",
    "            X_=Xtrain[cols]\n",
    "            X_t=Xtest[cols]\n",
    "            rfecv.fit(X_,ytrain)\n",
    "            train.append(metrics.f1_score(ytrain,rfecv.predict(X_),average='weighted'))\n",
    "            test.append(metrics.f1_score(ytest,rfecv.predict(X_t),average='weighted'))\n",
    "    plt.figure()\n",
    "    plt.plot(np.arange(2,10,1),train)\n",
    "    plt.plot(np.arange(2,10,1),test)\n",
    "    plt.title(\"Optimal Number of Features (Random Forest) \")\n",
    "    plt.legend(['train score', 'test score'], loc='upper left')\n",
    "    plt.ylim(.5,.99)\n",
    "    plt.show()"
   ]
  },
  {
   "cell_type": "markdown",
   "metadata": {},
   "source": [
    " - applying RFE in decision tree and plotting number of features vs f1 score"
   ]
  },
  {
   "cell_type": "code",
   "execution_count": 59,
   "metadata": {},
   "outputs": [
    {
     "data": {
      "image/png": "[encoded data removed]",
      "text/plain": [
       "<Figure size 720x504 with 1 Axes>"
      ]
     },
     "metadata": {
      "needs_background": "light"
     },
     "output_type": "display_data"
    }
   ],
   "source": [
    "model=tree.DecisionTreeClassifier(max_depth=14,min_samples_split=3)\n",
    "rfe_fselection(Xtrain,Xtest,ytrain,ytest,model)"
   ]
  },
  {
   "cell_type": "markdown",
   "metadata": {},
   "source": [
    " - From the above we infer that all the columns are equally important"
   ]
  },
  {
   "cell_type": "markdown",
   "metadata": {},
   "source": [
    "## Applying RFE to random forest"
   ]
  },
  {
   "cell_type": "code",
   "execution_count": 60,
   "metadata": {},
   "outputs": [
    {
     "name": "stderr",
     "output_type": "stream",
     "text": [
      "D:\\Machine learning\\installconda\\lib\\site-packages\\sklearn\\metrics\\classification.py:1437: UndefinedMetricWarning: F-score is ill-defined and being set to 0.0 in labels with no predicted samples.\n",
      "  'precision', 'predicted', average, warn_for)\n",
      "D:\\Machine learning\\installconda\\lib\\site-packages\\sklearn\\metrics\\classification.py:1437: UndefinedMetricWarning: F-score is ill-defined and being set to 0.0 in labels with no predicted samples.\n",
      "  'precision', 'predicted', average, warn_for)\n"
     ]
    },
    {
     "data": {
      "image/png": "[encoded data removed]",
      "text/plain": [
       "<Figure size 720x504 with 1 Axes>"
      ]
     },
     "metadata": {
      "needs_background": "light"
     },
     "output_type": "display_data"
    }
   ],
   "source": [
    "model=ensemble.RandomForestClassifier(n_estimators=200,bootstrap= False, max_depth= 20, min_samples_split= 5)\n",
    "rfe_fselection(Xtrain,Xtest,ytrain,ytest,model)"
   ]
  },
  {
   "cell_type": "markdown",
   "metadata": {},
   "source": [
    "## From the above it can be inferred that the model will give best prediction when 4 features are used.\n",
    " - Therefore extracting the best 4 features which affect the target columns the most"
   ]
  },
  {
   "cell_type": "code",
   "execution_count": 61,
   "metadata": {},
   "outputs": [],
   "source": [
    "def get_importantf(X,y):\n",
    "    np.random.seed(42)\n",
    "    rf=ensemble.RandomForestClassifier(n_estimators=200,bootstrap= False, max_depth= 20, min_samples_split= 5)\n",
    "    rf.fit(X,y)\n",
    "    return pd.DataFrame(rf.feature_importances_,index = X.columns,columns=['importance']).sort_values('importance',ascending=False)\n"
   ]
  },
  {
   "cell_type": "code",
   "execution_count": 62,
   "metadata": {},
   "outputs": [
    {
     "data": {
      "text/html": [
       "<div>\n",
       "<style scoped>\n",
       "    .dataframe tbody tr th:only-of-type {\n",
       "        vertical-align: middle;\n",
       "    }\n",
       "\n",
       "    .dataframe tbody tr th {\n",
       "        vertical-align: top;\n",
       "    }\n",
       "\n",
       "    .dataframe thead th {\n",
       "        text-align: right;\n",
       "    }\n",
       "</style>\n",
       "<table border=\"1\" class=\"dataframe\">\n",
       "  <thead>\n",
       "    <tr style=\"text-align: right;\">\n",
       "      <th></th>\n",
       "      <th>importance</th>\n",
       "    </tr>\n",
       "  </thead>\n",
       "  <tbody>\n",
       "    <tr>\n",
       "      <td>country_txt</td>\n",
       "      <td>0.330821</td>\n",
       "    </tr>\n",
       "    <tr>\n",
       "      <td>natlty1_txt</td>\n",
       "      <td>0.274677</td>\n",
       "    </tr>\n",
       "    <tr>\n",
       "      <td>idate</td>\n",
       "      <td>0.114314</td>\n",
       "    </tr>\n",
       "    <tr>\n",
       "      <td>city</td>\n",
       "      <td>0.080634</td>\n",
       "    </tr>\n",
       "    <tr>\n",
       "      <td>weapsubtype1_txt</td>\n",
       "      <td>0.048362</td>\n",
       "    </tr>\n",
       "    <tr>\n",
       "      <td>targtype1_txt</td>\n",
       "      <td>0.044142</td>\n",
       "    </tr>\n",
       "    <tr>\n",
       "      <td>nkill</td>\n",
       "      <td>0.033517</td>\n",
       "    </tr>\n",
       "    <tr>\n",
       "      <td>nwound</td>\n",
       "      <td>0.025917</td>\n",
       "    </tr>\n",
       "    <tr>\n",
       "      <td>attacktype1_txt</td>\n",
       "      <td>0.024986</td>\n",
       "    </tr>\n",
       "    <tr>\n",
       "      <td>weaptype1_txt</td>\n",
       "      <td>0.019795</td>\n",
       "    </tr>\n",
       "    <tr>\n",
       "      <td>ransomamt</td>\n",
       "      <td>0.002834</td>\n",
       "    </tr>\n",
       "    <tr>\n",
       "      <td>propextent_txt</td>\n",
       "      <td>0.000000</td>\n",
       "    </tr>\n",
       "  </tbody>\n",
       "</table>\n",
       "</div>"
      ],
      "text/plain": [
       "                  importance\n",
       "country_txt         0.330821\n",
       "natlty1_txt         0.274677\n",
       "idate               0.114314\n",
       "city                0.080634\n",
       "weapsubtype1_txt    0.048362\n",
       "targtype1_txt       0.044142\n",
       "nkill               0.033517\n",
       "nwound              0.025917\n",
       "attacktype1_txt     0.024986\n",
       "weaptype1_txt       0.019795\n",
       "ransomamt           0.002834\n",
       "propextent_txt      0.000000"
      ]
     },
     "execution_count": 62,
     "metadata": {},
     "output_type": "execute_result"
    }
   ],
   "source": [
    "get_importantf(Xtrain,ytrain)"
   ]
  },
  {
   "cell_type": "markdown",
   "metadata": {},
   "source": [
    "## Splitting the data and training the model on the 4 features "
   ]
  },
  {
   "cell_type": "code",
   "execution_count": 28,
   "metadata": {},
   "outputs": [],
   "source": [
    "X=terr_df[['country_txt','natlty1_txt','idate','city']]\n",
    "y=terr_df['gname']\n",
    "Xtrain,Xtest,ytrain,ytest=model_selection.train_test_split(X,y,test_size=0.2,stratify=y)"
   ]
  },
  {
   "cell_type": "code",
   "execution_count": 29,
   "metadata": {},
   "outputs": [
    {
     "name": "stdout",
     "output_type": "stream",
     "text": [
      "f1 score on testing set =  0.7982996367980737\n",
      "f1 score on training set =  0.9639558727162472\n"
     ]
    }
   ],
   "source": [
    "np.random.seed(42)\n",
    "model=ensemble.RandomForestClassifier(n_estimators=200,bootstrap= False, max_depth= 20, min_samples_split= 5)\n",
    "model.fit(Xtrain,ytrain)\n",
    "predtrain=model.predict(Xtrain)\n",
    "predtest=model.predict(Xtest)\n",
    "a=metrics.f1_score(ytest,predtest,average='weighted')\n",
    "t=metrics.f1_score(ytrain,predtrain,average='weighted') \n",
    "print(\"f1 score on testing set = \",a) \n",
    "print(\"f1 score on training set = \",t)"
   ]
  },
  {
   "cell_type": "code",
   "execution_count": 28,
   "metadata": {},
   "outputs": [],
   "source": [
    "from sklearn.metrics import confusion_matrix\n",
    "from sklearn.metrics import accuracy_score\n",
    "from sklearn.metrics import roc_curve\n",
    "from sklearn.metrics import roc_auc_score\n",
    "from sklearn.multiclass import OneVsRestClassifier\n",
    "clf_final=OneVsRestClassifier(ensemble.RandomForestClassifier(n_estimators=200,bootstrap= False, max_depth= 20, min_samples_split= 5))\n",
    "clf_final.fit(Xtrain,ytrain)"
   ]
  },
  {
   "cell_type": "code",
   "execution_count": 46,
   "metadata": {},
   "outputs": [
    {
     "data": {
      "image/png": "[encoded data removed]",
      "text/plain": [
       "<Figure size 720x504 with 1 Axes>"
      ]
     },
     "metadata": {
      "needs_background": "light"
     },
     "output_type": "display_data"
    }
   ],
   "source": [
    "from sklearn.metrics import auc\n",
    "y_score =clf_final.predict_proba(Xtest)\n",
    "fpr = dict()\n",
    "tpr = dict()\n",
    "roc_auc = dict()\n",
    "n_classes=y.nunique()\n",
    "plt.plot([0,1],[0,1],linestyle='--')\n",
    "for i in range(n_classes):\n",
    "    fpr[i],tpr[i],thresh= roc_curve(np.array((ytest==i).astype('int')), y_score[:, i])\n",
    "    roc_auc[i] =auc(fpr[i], tpr[i])\n",
    "    plt.plot(fpr[i],tpr[i],marker='.',color='green')"
   ]
  },
  {
   "cell_type": "markdown",
   "metadata": {},
   "source": [
    "# FURTHER IMPROVEMENTS:\n"
   ]
  },
  {
   "cell_type": "code",
   "execution_count": 68,
   "metadata": {},
   "outputs": [
    {
     "data": {
      "text/plain": [
       "0.8584450402144772"
      ]
     },
     "execution_count": 68,
     "metadata": {},
     "output_type": "execute_result"
    }
   ],
   "source": [
    "a=np.where(terr_df.natlty1_txt != terr_df.country_txt,1,0 )\n",
    "(a.sum()-terr_df.natlty1_txt.isnull().sum())/terr_df.shape[0]"
   ]
  },
  {
   "cell_type": "markdown",
   "metadata": {},
   "source": [
    "## 1.\n",
    "#### It can be inferred that 91.5 % of the data in natlty1_txt and country_txt columns are same, but dropping one of the columns affects the accuracy of the model to a high degree.\n",
    "### These two columns can be merged using feature extraction."
   ]
  },
  {
   "cell_type": "markdown",
   "metadata": {},
   "source": [
    "## 2.\n",
    "### Systems with high computation power can tune the hyperparameters of the Random Forest to better extent."
   ]
  },
  {
   "cell_type": "code",
   "execution_count": 37,
   "metadata": {},
   "outputs": [
    {
     "data": {
      "text/plain": [
       "81"
      ]
     },
     "execution_count": 37,
     "metadata": {},
     "output_type": "execute_result"
    }
   ],
   "source": [
    "terr_df.gname.nunique()"
   ]
  },
  {
   "cell_type": "code",
   "execution_count": null,
   "metadata": {},
   "outputs": [],
   "source": []
  }
 ],
 "metadata": {
  "kernelspec": {
   "display_name": "Python 3",
   "language": "python",
   "name": "python3"
  },
  "language_info": {
   "codemirror_mode": {
    "name": "ipython",
    "version": 3
   },
   "file_extension": ".py",
   "mimetype": "text/x-python",
   "name": "python",
   "nbconvert_exporter": "python",
   "pygments_lexer": "ipython3",
   "version": "3.7.6"
  }
 },
 "nbformat": 4,
 "nbformat_minor": 2
}
